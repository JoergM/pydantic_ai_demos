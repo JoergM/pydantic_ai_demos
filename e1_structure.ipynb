{
 "cells": [
  {
   "metadata": {},
   "cell_type": "markdown",
   "source": [
    "# Pydantic AI Demos - Part 1 (Structure)\n",
    "\n",
    "This notebook demonstrates how pydantic AI supports returning results in a structured form. It starts with the basics\n",
    "and then goes on with more complicated examples.\n",
    "\n",
    "## Basic LLM Call\n",
    "\n",
    "In this example we will just call an LLM and wait for an answer. We use the well known example of asking for the capital of a country.\n",
    "This just returns a string.\n"
   ],
   "id": "f773f7315c5ec4fd"
  },
  {
   "metadata": {
    "ExecuteTime": {
     "end_time": "2025-10-05T07:06:28.953679Z",
     "start_time": "2025-10-05T07:06:27.438190Z"
    }
   },
   "cell_type": "code",
   "source": [
    "from pydantic_ai import Agent\n",
    "from pydantic_ai.models.openai import OpenAIChatModel\n",
    "from pydantic_ai.providers.openai import OpenAIProvider\n",
    "\n",
    "BASE_URL=\"http://127.0.0.1:1234/v1\"\n",
    "LM_STUDIO_MODEL=\"openai/gpt-oss-20b\"\n",
    "\n",
    "model = OpenAIChatModel(LM_STUDIO_MODEL, provider=OpenAIProvider(BASE_URL))\n",
    "\n",
    "#Alternative, when only using e.g. OpenAI\n",
    "# agent = Agent('openai:gpt-5', output_type=str)\n",
    "\n",
    "agent = Agent(model, output_type=str)\n",
    "\n",
    "result = await agent.run(\"What is the capital of Germany?\")\n",
    "result.output\n"
   ],
   "id": "9f5367d2a0cded3c",
   "outputs": [
    {
     "data": {
      "text/plain": [
       "'The capital of Germany is **Berlin**.'"
      ]
     },
     "execution_count": 3,
     "metadata": {},
     "output_type": "execute_result"
    }
   ],
   "execution_count": 3
  },
  {
   "metadata": {},
   "cell_type": "markdown",
   "source": [
    "\n",
    "\n",
    "## Some structure to the result\n",
    "\n",
    "We would like some more information and we also would like it in another form than as string.\n",
    "\n",
    "So lets create a target object and use this.\n"
   ],
   "id": "bb6cf1bdc99a5241"
  },
  {
   "metadata": {
    "ExecuteTime": {
     "end_time": "2025-10-05T07:10:10.233680Z",
     "start_time": "2025-10-05T07:10:09.049680Z"
    }
   },
   "cell_type": "code",
   "source": [
    "from pydantic import BaseModel, Field\n",
    "\n",
    "class Capital(BaseModel):\n",
    "    name: str = Field(..., description=\"The name of the capital\")\n",
    "    country: str = Field(..., description=\"The country of the capital, as it was asked by the user.\")\n",
    "    num_inhabitants: int = Field(..., description=\"The number of inhabitants of the capital\")\n",
    "\n",
    "agent = Agent(model, output_type=Capital)\n",
    "\n",
    "result = await agent.run(\"What is the capital of Germany?\")\n",
    "hauptstadt = result.output\n",
    "print(f\"name: {hauptstadt.name}, country: {hauptstadt.country}, num_inhabitants: {hauptstadt.num_inhabitants}\")"
   ],
   "id": "5e5e3a3ade12a868",
   "outputs": [
    {
     "name": "stdout",
     "output_type": "stream",
     "text": [
      "09:10:09.054 agent run\n",
      "09:10:09.056   chat openai/gpt-oss-20b\n",
      "name: Berlin, country: Germany, num_inhabitants: 3748000\n"
     ]
    }
   ],
   "execution_count": 11
  },
  {
   "metadata": {},
   "cell_type": "markdown",
   "source": [
    "\n",
    "## Lets add some logging\n",
    "\n",
    "We are using logfire. A product of pydantic to see what happens during the call.\n",
    "\n",
    "You would need to setup an account to get the token. There is a free account with a rather large limit."
   ],
   "id": "fc598aa90ddb586f"
  },
  {
   "metadata": {
    "ExecuteTime": {
     "end_time": "2025-10-05T07:07:42.439887Z",
     "start_time": "2025-10-05T07:07:42.387735Z"
    }
   },
   "cell_type": "code",
   "source": [
    "from dotenv import load_dotenv\n",
    "import logfire\n",
    "import os\n",
    "\n",
    "load_dotenv()\n",
    "logfire.configure(token=os.getenv(\"LOGFIRE_TOKEN\"))\n",
    "logfire.info('I am configured!')\n",
    "logfire.instrument_pydantic_ai()"
   ],
   "id": "e6745383dce3f4d2",
   "outputs": [
    {
     "name": "stdout",
     "output_type": "stream",
     "text": [
      "09:07:42.436 I am configured!\n"
     ]
    },
    {
     "name": "stderr",
     "output_type": "stream",
     "text": [
      "\u001B[1mLogfire\u001B[0m project URL: \n",
      "\u001B]8;id=289820;https://logfire-eu.pydantic.dev/joerg-mueller/pydantic-demos\u001B\\\u001B[4;36mhttps://logfire-eu.pydantic.dev/joerg-mueller/pydantic-demos\u001B[0m\u001B]8;;\u001B\\\n"
     ]
    }
   ],
   "execution_count": 5
  },
  {
   "metadata": {
    "ExecuteTime": {
     "end_time": "2025-10-05T07:09:55.242635Z",
     "start_time": "2025-10-05T07:09:52.213225Z"
    }
   },
   "cell_type": "code",
   "source": [
    "# Run the agent again.\n",
    "result = await agent.run(\"What is the capital of Japan?\")\n",
    "result.output\n"
   ],
   "id": "d02a179e2157e1f5",
   "outputs": [
    {
     "name": "stdout",
     "output_type": "stream",
     "text": [
      "09:09:52.220 agent run\n",
      "09:09:52.222   chat openai/gpt-oss-20b\n",
      "09:09:53.728   chat openai/gpt-oss-20b\n"
     ]
    },
    {
     "data": {
      "text/plain": [
       "RandomValue(value=37)"
      ]
     },
     "execution_count": 8,
     "metadata": {},
     "output_type": "execute_result"
    }
   ],
   "execution_count": 8
  },
  {
   "metadata": {},
   "cell_type": "markdown",
   "source": [
    "\n",
    "## Add a validator\n",
    "\n",
    "We not only want the result to be structured but also validate, that certain elements have a specific form.\n",
    "Pydantic AI will do the validation for us and ask the LLM for correction if the result is wrong.\n",
    "\n",
    "We use an example that forces a retry. We ask for a random number between 0 and 100 but expect it to be always 37.\n",
    "This forces a retry for demonstration purposes.\n"
   ],
   "id": "fb5cc7804ed139c3"
  },
  {
   "cell_type": "code",
   "id": "initial_id",
   "metadata": {
    "collapsed": true,
    "ExecuteTime": {
     "end_time": "2025-10-05T07:08:37.245480Z",
     "start_time": "2025-10-05T07:08:34.925652Z"
    }
   },
   "source": [
    "from pydantic import model_validator\n",
    "\n",
    "class RandomValue(BaseModel):\n",
    "    value: int = Field(..., description=\"A random value between 0 and 100.\")\n",
    "\n",
    "    @model_validator(mode=\"after\")\n",
    "    def validate_randomness(self):\n",
    "        if self.value != 37:\n",
    "            raise ValueError(\"The value is not 37. \")\n",
    "        return self\n",
    "\n",
    "agent = Agent(model, output_type=RandomValue, system_prompt=\"You are a random number generator.\")\n",
    "\n",
    "result = await agent.run(\"Give me a number between 0 and 100!\")\n",
    "result.output"
   ],
   "outputs": [
    {
     "name": "stdout",
     "output_type": "stream",
     "text": [
      "09:08:34.935 agent run\n",
      "09:08:34.938   chat openai/gpt-oss-20b\n",
      "09:08:36.217   chat openai/gpt-oss-20b\n"
     ]
    },
    {
     "data": {
      "text/plain": [
       "RandomValue(value=37)"
      ]
     },
     "execution_count": 7,
     "metadata": {},
     "output_type": "execute_result"
    }
   ],
   "execution_count": 7
  }
 ],
 "metadata": {
  "kernelspec": {
   "display_name": "Python 3",
   "language": "python",
   "name": "python3"
  },
  "language_info": {
   "codemirror_mode": {
    "name": "ipython",
    "version": 2
   },
   "file_extension": ".py",
   "mimetype": "text/x-python",
   "name": "python",
   "nbconvert_exporter": "python",
   "pygments_lexer": "ipython2",
   "version": "2.7.6"
  }
 },
 "nbformat": 4,
 "nbformat_minor": 5
}
