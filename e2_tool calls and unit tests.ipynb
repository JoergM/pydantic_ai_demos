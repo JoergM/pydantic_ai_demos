{
 "cells": [
  {
   "metadata": {},
   "cell_type": "markdown",
   "source": [
    "# Tool calls\n",
    "\n",
    "To get better results it helps to give the LLM more information. One way to do this is to let the LLM all available tools to\n",
    "retrieve more information.\n",
    "\n",
    "We use the example for Capitals again. The number of inhabitants was roughly right but not exactly there was a good amount of\n",
    "halluzination.\n",
    "\n",
    "We will now give the LLM a tool to look up Inhabitants and Size of the capital.\n",
    "\n",
    "(*Disclaimer:* This is only for demonstration purposes. Of course this could be a simple database query instead of using an\n",
    "LLM with a tool-call.)\n",
    "\n"
   ],
   "id": "6bc3fb0ee222f2fd"
  },
  {
   "cell_type": "code",
   "id": "initial_id",
   "metadata": {
    "collapsed": true,
    "ExecuteTime": {
     "end_time": "2025-10-03T10:20:13.634089Z",
     "start_time": "2025-10-03T10:20:13.271244Z"
    }
   },
   "source": [
    "# Here is the data:\n",
    "import duckdb\n",
    "\n",
    "result = duckdb.sql(\"Select * from 'data/capitals_wikipedia.csv'\").df() #converted to dataframe as it looks nicer in Jupyter\n",
    "result"
   ],
   "outputs": [
    {
     "data": {
      "text/plain": [
       "                                                  Name  Inhabitants    Size\n",
       "0    Abidjan (former capital; still hosts some gove...          NaN     NaN\n",
       "1                                            Abu Dhabi    1010092.0   972.0\n",
       "2                                                Abuja    1235880.0  1476.0\n",
       "3                                                Accra    2388000.0    20.4\n",
       "4                                            Adamstown         40.0     4.6\n",
       "..                                                 ...          ...     ...\n",
       "241                                           Windhoek     431000.0  5133.0\n",
       "242                                            Yaoundé    2765568.0   180.0\n",
       "243                                   Yaren (de facto)        747.0     1.5\n",
       "244                                            Yerevan    1096100.0   223.0\n",
       "245                                             Zagreb     769944.0   641.2\n",
       "\n",
       "[246 rows x 3 columns]"
      ],
      "text/html": [
       "<div>\n",
       "<style scoped>\n",
       "    .dataframe tbody tr th:only-of-type {\n",
       "        vertical-align: middle;\n",
       "    }\n",
       "\n",
       "    .dataframe tbody tr th {\n",
       "        vertical-align: top;\n",
       "    }\n",
       "\n",
       "    .dataframe thead th {\n",
       "        text-align: right;\n",
       "    }\n",
       "</style>\n",
       "<table border=\"1\" class=\"dataframe\">\n",
       "  <thead>\n",
       "    <tr style=\"text-align: right;\">\n",
       "      <th></th>\n",
       "      <th>Name</th>\n",
       "      <th>Inhabitants</th>\n",
       "      <th>Size</th>\n",
       "    </tr>\n",
       "  </thead>\n",
       "  <tbody>\n",
       "    <tr>\n",
       "      <th>0</th>\n",
       "      <td>Abidjan (former capital; still hosts some gove...</td>\n",
       "      <td>NaN</td>\n",
       "      <td>NaN</td>\n",
       "    </tr>\n",
       "    <tr>\n",
       "      <th>1</th>\n",
       "      <td>Abu Dhabi</td>\n",
       "      <td>1010092.0</td>\n",
       "      <td>972.0</td>\n",
       "    </tr>\n",
       "    <tr>\n",
       "      <th>2</th>\n",
       "      <td>Abuja</td>\n",
       "      <td>1235880.0</td>\n",
       "      <td>1476.0</td>\n",
       "    </tr>\n",
       "    <tr>\n",
       "      <th>3</th>\n",
       "      <td>Accra</td>\n",
       "      <td>2388000.0</td>\n",
       "      <td>20.4</td>\n",
       "    </tr>\n",
       "    <tr>\n",
       "      <th>4</th>\n",
       "      <td>Adamstown</td>\n",
       "      <td>40.0</td>\n",
       "      <td>4.6</td>\n",
       "    </tr>\n",
       "    <tr>\n",
       "      <th>...</th>\n",
       "      <td>...</td>\n",
       "      <td>...</td>\n",
       "      <td>...</td>\n",
       "    </tr>\n",
       "    <tr>\n",
       "      <th>241</th>\n",
       "      <td>Windhoek</td>\n",
       "      <td>431000.0</td>\n",
       "      <td>5133.0</td>\n",
       "    </tr>\n",
       "    <tr>\n",
       "      <th>242</th>\n",
       "      <td>Yaoundé</td>\n",
       "      <td>2765568.0</td>\n",
       "      <td>180.0</td>\n",
       "    </tr>\n",
       "    <tr>\n",
       "      <th>243</th>\n",
       "      <td>Yaren (de facto)</td>\n",
       "      <td>747.0</td>\n",
       "      <td>1.5</td>\n",
       "    </tr>\n",
       "    <tr>\n",
       "      <th>244</th>\n",
       "      <td>Yerevan</td>\n",
       "      <td>1096100.0</td>\n",
       "      <td>223.0</td>\n",
       "    </tr>\n",
       "    <tr>\n",
       "      <th>245</th>\n",
       "      <td>Zagreb</td>\n",
       "      <td>769944.0</td>\n",
       "      <td>641.2</td>\n",
       "    </tr>\n",
       "  </tbody>\n",
       "</table>\n",
       "<p>246 rows × 3 columns</p>\n",
       "</div>"
      ]
     },
     "execution_count": 1,
     "metadata": {},
     "output_type": "execute_result"
    }
   ],
   "execution_count": 1
  },
  {
   "metadata": {},
   "cell_type": "markdown",
   "source": [
    "## Basic Setup of the agent with\n",
    "\n",
    "The following creates the sets up the logging, the output model and setsup logging."
   ],
   "id": "8290043b068b962"
  },
  {
   "metadata": {
    "ExecuteTime": {
     "end_time": "2025-10-03T10:20:16.675199Z",
     "start_time": "2025-10-03T10:20:13.763159Z"
    }
   },
   "cell_type": "code",
   "source": [
    "from pydantic import BaseModel, Field\n",
    "from dotenv import load_dotenv\n",
    "import logfire\n",
    "import os\n",
    "from pydantic_ai import Agent\n",
    "from pydantic_ai.models.openai import OpenAIChatModel\n",
    "from pydantic_ai.providers.openai import OpenAIProvider\n",
    "\n",
    "# setup logging\n",
    "load_dotenv()\n",
    "logfire.configure(token=os.getenv(\"LOGFIRE_TOKEN\"))\n",
    "logfire.info('Example 2 configured!')\n",
    "logfire.instrument_pydantic_ai()\n",
    "\n",
    "#setup the LLM\n",
    "BASE_URL=\"http://127.0.0.1:1234/v1\"\n",
    "LM_STUDIO_MODEL=\"openai/gpt-oss-20b\"\n",
    "\n",
    "model = OpenAIChatModel(LM_STUDIO_MODEL, provider=OpenAIProvider(BASE_URL))\n",
    "\n",
    "# define the output model\n",
    "class Capital(BaseModel):\n",
    "    name: str = Field(..., description=\"The name of the capital\")\n",
    "    country: str = Field(..., description=\"The country of the capital, as it was asked by the user.\")\n",
    "    num_inhabitants: float = Field(..., description=\"The number of inhabitants of the capital\")\n",
    "    size_of_capital: float = Field(..., description=\"The size of the capital in square kilometers\")\n",
    "\n",
    "\n",
    "#setup the agent, ignore the deps type for the moment\n",
    "agent = Agent(model, output_type=Capital)\n",
    "\n",
    "#First test without tool\n",
    "result = await agent.run(\"What is the size of the capital of Germany?\")\n",
    "result.output"
   ],
   "id": "24c404bb8728d9db",
   "outputs": [
    {
     "name": "stdout",
     "output_type": "stream",
     "text": [
      "12:20:14.352 Example 2 configured!\n",
      "12:20:14.390 agent run\n",
      "12:20:14.391   chat openai/gpt-oss-20b\n"
     ]
    },
    {
     "data": {
      "text/plain": [
       "\u001B[1mLogfire\u001B[0m project URL: \u001B]8;id=633114;https://logfire-eu.pydantic.dev/joerg-mueller/pydantic-demos\u001B\\\u001B[4;36mhttps://logfire-eu.pydantic.dev/joerg-mueller/pydantic-demos\u001B[0m\u001B]8;;\u001B\\\n"
      ],
      "text/html": [
       "<pre style=\"white-space:pre;overflow-x:auto;line-height:normal;font-family:Menlo,'DejaVu Sans Mono',consolas,'Courier New',monospace\"><span style=\"font-weight: bold\">Logfire</span> project URL: <a href=\"https://logfire-eu.pydantic.dev/joerg-mueller/pydantic-demos\" target=\"_blank\"><span style=\"color: #008080; text-decoration-color: #008080; text-decoration: underline\">https://logfire-eu.pydantic.dev/joerg-mueller/pydantic-demos</span></a>\n",
       "</pre>\n"
      ]
     },
     "metadata": {},
     "output_type": "display_data"
    },
    {
     "data": {
      "text/plain": [
       "Capital(name='Berlin', country='Germany', num_inhabitants=3644826.0, size_of_capital=891.0)"
      ]
     },
     "execution_count": 2,
     "metadata": {},
     "output_type": "execute_result"
    }
   ],
   "execution_count": 2
  },
  {
   "metadata": {},
   "cell_type": "markdown",
   "source": [
    "## Add a tool\n",
    "\n"
   ],
   "id": "dcaa4cddcc753879"
  },
  {
   "metadata": {
    "ExecuteTime": {
     "end_time": "2025-10-03T10:20:19.113704Z",
     "start_time": "2025-10-03T10:20:16.700203Z"
    }
   },
   "cell_type": "code",
   "source": [
    "from pydantic_ai import RunContext\n",
    "\n",
    "#setup the agent again (to prevent double definitions for the tool)\n",
    "agent = Agent(model, output_type=Capital)\n",
    "\n",
    "#Be aware that this is a decorator that uses the real instance, so agent, not Agent\n",
    "@agent.tool\n",
    "def query_numbers(ctx: RunContext[None], capital_name: str) -> {}:\n",
    "    \"\"\"query the number of inhabitants and size for a capital\"\"\"\n",
    "    row = duckdb.sql(f\"Select inhabitants, size from 'data/capitals_wikipedia.csv' where name = '{capital_name}'\").fetchone()\n",
    "    return {'inhabitants': row[0], 'size': row[1]}\n",
    "\n",
    "result = await agent.run(\"What is the size of the capital of Germany?\")\n",
    "result.output"
   ],
   "id": "cf60303346486d3b",
   "outputs": [
    {
     "name": "stdout",
     "output_type": "stream",
     "text": [
      "12:20:16.705 agent run\n",
      "12:20:16.706   chat openai/gpt-oss-20b\n",
      "12:20:17.769   running 1 tool\n",
      "12:20:17.769     running tool: query_numbers\n",
      "12:20:17.778   chat openai/gpt-oss-20b\n"
     ]
    },
    {
     "data": {
      "text/plain": [
       "Capital(name='Berlin', country='Germany', num_inhabitants=3677472.0, size_of_capital=891.3)"
      ]
     },
     "execution_count": 3,
     "metadata": {},
     "output_type": "execute_result"
    }
   ],
   "execution_count": 3
  }
 ],
 "metadata": {
  "kernelspec": {
   "display_name": "Python 3",
   "language": "python",
   "name": "python3"
  },
  "language_info": {
   "codemirror_mode": {
    "name": "ipython",
    "version": 2
   },
   "file_extension": ".py",
   "mimetype": "text/x-python",
   "name": "python",
   "nbconvert_exporter": "python",
   "pygments_lexer": "ipython2",
   "version": "2.7.6"
  }
 },
 "nbformat": 4,
 "nbformat_minor": 5
}
