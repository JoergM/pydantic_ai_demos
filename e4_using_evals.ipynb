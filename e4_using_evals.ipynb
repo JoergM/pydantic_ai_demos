{
 "cells": [
  {
   "metadata": {},
   "cell_type": "markdown",
   "source": [
    "# Using Evals\n",
    "\n",
    "When the expected result is not deterministic, a normal test is not enough. Then the way of testing is\n",
    "more like experiments.\n",
    "\n",
    "This way you can e.g. test different models or different prompts for your usecase and compare the results\n",
    "\n",
    "## The Example\n",
    "\n",
    "This time we are asking for touristic recommendations for a city."
   ],
   "id": "4a32addedf757446"
  },
  {
   "metadata": {
    "ExecuteTime": {
     "end_time": "2025-10-05T07:33:35.804874Z",
     "start_time": "2025-10-05T07:33:33.101288Z"
    }
   },
   "cell_type": "code",
   "source": [
    "import os\n",
    "\n",
    "import logfire\n",
    "from dotenv import load_dotenv\n",
    "from pydantic import BaseModel, Field\n",
    "from pydantic_ai import Agent\n",
    "from pydantic_ai.models.openai import OpenAIChatModel\n",
    "from pydantic_ai.providers.openai import OpenAIProvider\n",
    "\n",
    "# setup logging\n",
    "load_dotenv()\n",
    "logfire.configure(token=os.getenv(\"LOGFIRE_TOKEN\"))\n",
    "logfire.info('Example 2 configured!')\n",
    "logfire.instrument_pydantic_ai()\n",
    "\n",
    "class TouristicRecommendation(BaseModel):\n",
    "    city: str = Field(..., description=\"The city name\")\n",
    "    country: str = Field(..., description=\"The country of the city\")\n",
    "    description: str = Field(..., description=\"A short description of the city\")\n",
    "    recommendations: list[str] = Field(..., description=\"A list of recommended touristic places\")\n",
    "\n",
    "#setup the LLM\n",
    "BASE_URL = \"http://127.0.0.1:1234/v1\"\n",
    "LM_STUDIO_MODEL = \"openai/gpt-oss-20b\"\n",
    "\n",
    "model = OpenAIChatModel(LM_STUDIO_MODEL, provider=OpenAIProvider(BASE_URL))\n",
    "\n",
    "#setup the agent, ignore the deps type for the moment\n",
    "agent = Agent(model, output_type=TouristicRecommendation, system_prompt=\"\"\"\n",
    "You are a touristic recommendation agent.\n",
    "You are given a city name and you have to provide a touristic recommendation for this city.\n",
    "Give a short description of about 200 chars.\n",
    "Also recommend at least 3 touristic places for this city with a short description.\n",
    "\"\"\")\n",
    "\n",
    "#First test without tool\n",
    "result = await agent.run(\"What do you recommend for the city of Berlin?\")\n",
    "result.output"
   ],
   "id": "ab266eea7cf892aa",
   "outputs": [
    {
     "name": "stdout",
     "output_type": "stream",
     "text": [
      "09:33:33.416 Example 2 configured!\n",
      "09:33:33.428 agent run\n",
      "09:33:33.429   chat openai/gpt-oss-20b\n"
     ]
    },
    {
     "data": {
      "text/plain": [
       "\u001B[1mLogfire\u001B[0m project URL: \u001B]8;id=924061;https://logfire-eu.pydantic.dev/joerg-mueller/pydantic-demos\u001B\\\u001B[4;36mhttps://logfire-eu.pydantic.dev/joerg-mueller/pydantic-demos\u001B[0m\u001B]8;;\u001B\\\n"
      ],
      "text/html": [
       "<pre style=\"white-space:pre;overflow-x:auto;line-height:normal;font-family:Menlo,'DejaVu Sans Mono',consolas,'Courier New',monospace\"><span style=\"font-weight: bold\">Logfire</span> project URL: <a href=\"https://logfire-eu.pydantic.dev/joerg-mueller/pydantic-demos\" target=\"_blank\"><span style=\"color: #008080; text-decoration-color: #008080; text-decoration: underline\">https://logfire-eu.pydantic.dev/joerg-mueller/pydantic-demos</span></a>\n",
       "</pre>\n"
      ]
     },
     "metadata": {},
     "output_type": "display_data"
    },
    {
     "data": {
      "text/plain": [
       "TouristicRecommendation(city='Berlin', country='Germany', description='Vibrant capital blending history, art and tech. From iconic landmarks to lively neighborhoods, it’s a cultural hub that never sleeps.', recommendations=['Brandenburg Gate – emblematic gate with imperial past', 'Museum Island – world‑class museums on Spree River', 'East Side Gallery – open‑air gallery of mural art'])"
      ]
     },
     "execution_count": 17,
     "metadata": {},
     "output_type": "execute_result"
    }
   ],
   "execution_count": 17
  },
  {
   "metadata": {},
   "cell_type": "markdown",
   "source": [
    "## Setup cases\n",
    "\n",
    "Each experiment contains a number of cases. Those can be defined in code or in YAML and loaded from disk.\n",
    "\n",
    "Lets start with a single case.\n"
   ],
   "id": "1d69deca7fece677"
  },
  {
   "metadata": {
    "ExecuteTime": {
     "end_time": "2025-10-05T07:35:16.661226Z",
     "start_time": "2025-10-05T07:35:14.434482Z"
    }
   },
   "cell_type": "code",
   "source": [
    "from pydantic_evals.evaluators import IsInstance\n",
    "from pydantic_evals import Case, Dataset\n",
    "\n",
    "case1 = Case(\n",
    "    name='Berlin Test Case',\n",
    "    inputs='What do you recommend for the city of Berlin?',\n",
    "    expected_output={\n",
    "        'city': 'Berlin',\n",
    "        'country': 'Germany',\n",
    "        'expected_description': 'The description should mention that Berlin is a city in Germany and its capital.',\n",
    "        'expected_recommendations': ['Brandenburg Gate', 'Museum Island', 'Eastside Gallery']\n",
    "    },\n",
    "    metadata={'difficulty', 'easy'}\n",
    ")\n",
    "\n",
    "dataset = Dataset(cases=[case1])\n",
    "\n",
    "#We start by just evaluating the return type.\n",
    "dataset.add_evaluator(IsInstance(type_name='TouristicRecommendation'))\n",
    "\n",
    "\n",
    "# The call to the agent is wrapped in a function\n",
    "def call_agent(input: str) -> TouristicRecommendation:\n",
    "    return agent.run_sync(input).output\n",
    "\n",
    "\n",
    "report = await dataset.evaluate(call_agent)\n",
    "report.print(include_input=True, include_output=True, include_durations=False)\n"
   ],
   "id": "33f9b1112ef5ff66",
   "outputs": [
    {
     "data": {
      "text/plain": [
       "Output()"
      ],
      "application/vnd.jupyter.widget-view+json": {
       "version_major": 2,
       "version_minor": 0,
       "model_id": "1e413175314f428cac853fb3cb9b6984"
      }
     },
     "metadata": {},
     "output_type": "display_data"
    },
    {
     "name": "stdout",
     "output_type": "stream",
     "text": [
      "09:35:14.448 evaluate call_agent\n",
      "09:35:14.456   case: Berlin Test Case\n",
      "09:35:14.457     execute call_agent\n",
      "09:35:14.465       agent run\n",
      "09:35:14.472         chat openai/gpt-oss-20b\n",
      "09:35:16.653     evaluator: IsInstance\n"
     ]
    },
    {
     "data": {
      "text/plain": [],
      "text/html": [
       "<pre style=\"white-space:pre;overflow-x:auto;line-height:normal;font-family:Menlo,'DejaVu Sans Mono',consolas,'Courier New',monospace\"></pre>\n"
      ]
     },
     "metadata": {},
     "output_type": "display_data"
    },
    {
     "data": {
      "text/plain": [
       "\u001B[3m                                          Evaluation Summary: call_agent                                           \u001B[0m\n",
       "┏━━━━━━━━━━━━━━━━━━┳━━━━━━━━━━━━━━━━━━━━━━━━━━━━━┳━━━━━━━━━━━━━━━━━━━━━━━━━━━━┳━━━━━━━━━━━━━━━━━━━━━━┳━━━━━━━━━━━━┓\n",
       "┃\u001B[1m \u001B[0m\u001B[1mCase ID         \u001B[0m\u001B[1m \u001B[0m┃\u001B[1m \u001B[0m\u001B[1mInputs                     \u001B[0m\u001B[1m \u001B[0m┃\u001B[1m \u001B[0m\u001B[1mOutputs                   \u001B[0m\u001B[1m \u001B[0m┃\u001B[1m \u001B[0m\u001B[1mMetrics             \u001B[0m\u001B[1m \u001B[0m┃\u001B[1m \u001B[0m\u001B[1mAssertions\u001B[0m\u001B[1m \u001B[0m┃\n",
       "┡━━━━━━━━━━━━━━━━━━╇━━━━━━━━━━━━━━━━━━━━━━━━━━━━━╇━━━━━━━━━━━━━━━━━━━━━━━━━━━━╇━━━━━━━━━━━━━━━━━━━━━━╇━━━━━━━━━━━━┩\n",
       "│\u001B[1m \u001B[0m\u001B[1mBerlin Test Case\u001B[0m\u001B[1m \u001B[0m│ What do you recommend for   │ city='Berlin'              │ input_tokens: 452    │ \u001B[32m✔\u001B[0m          │\n",
       "│\u001B[1m                  \u001B[0m│ the city of Berlin?         │ country='Germany'          │ output_tokens: 210   │            │\n",
       "│\u001B[1m                  \u001B[0m│                             │ description='Berlin,       │ requests: 1          │            │\n",
       "│\u001B[1m                  \u001B[0m│                             │ Germany’s vibrant capital, │                      │            │\n",
       "│\u001B[1m                  \u001B[0m│                             │ blends history, art, and   │                      │            │\n",
       "│\u001B[1m                  \u001B[0m│                             │ modern culture. From       │                      │            │\n",
       "│\u001B[1m                  \u001B[0m│                             │ iconic landmarks to        │                      │            │\n",
       "│\u001B[1m                  \u001B[0m│                             │ eclectic neighborhoods, it │                      │            │\n",
       "│\u001B[1m                  \u001B[0m│                             │ offers endless             │                      │            │\n",
       "│\u001B[1m                  \u001B[0m│                             │ exploration.'              │                      │            │\n",
       "│\u001B[1m                  \u001B[0m│                             │ recommendations=['Brandenb │                      │            │\n",
       "│\u001B[1m                  \u001B[0m│                             │ urg Gate – symbol of       │                      │            │\n",
       "│\u001B[1m                  \u001B[0m│                             │ reunification and historic │                      │            │\n",
       "│\u001B[1m                  \u001B[0m│                             │ gateway', 'Museum Island – │                      │            │\n",
       "│\u001B[1m                  \u001B[0m│                             │ UNESCO site with           │                      │            │\n",
       "│\u001B[1m                  \u001B[0m│                             │ world‑class museums',      │                      │            │\n",
       "│\u001B[1m                  \u001B[0m│                             │ 'Berlin Wall Memorial –    │                      │            │\n",
       "│\u001B[1m                  \u001B[0m│                             │ poignant reminder of Cold  │                      │            │\n",
       "│\u001B[1m                  \u001B[0m│                             │ War history']              │                      │            │\n",
       "├──────────────────┼─────────────────────────────┼────────────────────────────┼──────────────────────┼────────────┤\n",
       "│\u001B[1m \u001B[0m\u001B[1;3mAverages\u001B[0m\u001B[1m        \u001B[0m\u001B[1m \u001B[0m│                             │                            │ input_tokens: 452.0  │ 100.0% \u001B[32m✔\u001B[0m   │\n",
       "│\u001B[1m                  \u001B[0m│                             │                            │ output_tokens: 210.0 │            │\n",
       "│\u001B[1m                  \u001B[0m│                             │                            │ requests: 1.00       │            │\n",
       "└──────────────────┴─────────────────────────────┴────────────────────────────┴──────────────────────┴────────────┘\n"
      ],
      "text/html": [
       "<pre style=\"white-space:pre;overflow-x:auto;line-height:normal;font-family:Menlo,'DejaVu Sans Mono',consolas,'Courier New',monospace\"><span style=\"font-style: italic\">                                          Evaluation Summary: call_agent                                           </span>\n",
       "┏━━━━━━━━━━━━━━━━━━┳━━━━━━━━━━━━━━━━━━━━━━━━━━━━━┳━━━━━━━━━━━━━━━━━━━━━━━━━━━━┳━━━━━━━━━━━━━━━━━━━━━━┳━━━━━━━━━━━━┓\n",
       "┃<span style=\"font-weight: bold\"> Case ID          </span>┃<span style=\"font-weight: bold\"> Inputs                      </span>┃<span style=\"font-weight: bold\"> Outputs                    </span>┃<span style=\"font-weight: bold\"> Metrics              </span>┃<span style=\"font-weight: bold\"> Assertions </span>┃\n",
       "┡━━━━━━━━━━━━━━━━━━╇━━━━━━━━━━━━━━━━━━━━━━━━━━━━━╇━━━━━━━━━━━━━━━━━━━━━━━━━━━━╇━━━━━━━━━━━━━━━━━━━━━━╇━━━━━━━━━━━━┩\n",
       "│<span style=\"font-weight: bold\"> Berlin Test Case </span>│ What do you recommend for   │ city='Berlin'              │ input_tokens: 452    │ <span style=\"color: #008000; text-decoration-color: #008000\">✔</span>          │\n",
       "│<span style=\"font-weight: bold\">                  </span>│ the city of Berlin?         │ country='Germany'          │ output_tokens: 210   │            │\n",
       "│<span style=\"font-weight: bold\">                  </span>│                             │ description='Berlin,       │ requests: 1          │            │\n",
       "│<span style=\"font-weight: bold\">                  </span>│                             │ Germany’s vibrant capital, │                      │            │\n",
       "│<span style=\"font-weight: bold\">                  </span>│                             │ blends history, art, and   │                      │            │\n",
       "│<span style=\"font-weight: bold\">                  </span>│                             │ modern culture. From       │                      │            │\n",
       "│<span style=\"font-weight: bold\">                  </span>│                             │ iconic landmarks to        │                      │            │\n",
       "│<span style=\"font-weight: bold\">                  </span>│                             │ eclectic neighborhoods, it │                      │            │\n",
       "│<span style=\"font-weight: bold\">                  </span>│                             │ offers endless             │                      │            │\n",
       "│<span style=\"font-weight: bold\">                  </span>│                             │ exploration.'              │                      │            │\n",
       "│<span style=\"font-weight: bold\">                  </span>│                             │ recommendations=['Brandenb │                      │            │\n",
       "│<span style=\"font-weight: bold\">                  </span>│                             │ urg Gate – symbol of       │                      │            │\n",
       "│<span style=\"font-weight: bold\">                  </span>│                             │ reunification and historic │                      │            │\n",
       "│<span style=\"font-weight: bold\">                  </span>│                             │ gateway', 'Museum Island – │                      │            │\n",
       "│<span style=\"font-weight: bold\">                  </span>│                             │ UNESCO site with           │                      │            │\n",
       "│<span style=\"font-weight: bold\">                  </span>│                             │ world‑class museums',      │                      │            │\n",
       "│<span style=\"font-weight: bold\">                  </span>│                             │ 'Berlin Wall Memorial –    │                      │            │\n",
       "│<span style=\"font-weight: bold\">                  </span>│                             │ poignant reminder of Cold  │                      │            │\n",
       "│<span style=\"font-weight: bold\">                  </span>│                             │ War history']              │                      │            │\n",
       "├──────────────────┼─────────────────────────────┼────────────────────────────┼──────────────────────┼────────────┤\n",
       "│<span style=\"font-weight: bold\"> </span><span style=\"font-weight: bold; font-style: italic\">Averages</span><span style=\"font-weight: bold\">         </span>│                             │                            │ input_tokens: 452.0  │ 100.0% <span style=\"color: #008000; text-decoration-color: #008000\">✔</span>   │\n",
       "│<span style=\"font-weight: bold\">                  </span>│                             │                            │ output_tokens: 210.0 │            │\n",
       "│<span style=\"font-weight: bold\">                  </span>│                             │                            │ requests: 1.00       │            │\n",
       "└──────────────────┴─────────────────────────────┴────────────────────────────┴──────────────────────┴────────────┘\n",
       "</pre>\n"
      ]
     },
     "metadata": {},
     "output_type": "display_data"
    }
   ],
   "execution_count": 18
  },
  {
   "metadata": {},
   "cell_type": "markdown",
   "source": [
    "## Deterministic Evaluators\n",
    "\n",
    "Now we add our own Evaluator, that does measures some deterministic parts of the result.\n",
    "\n",
    "Such an evaluator returns a number to"
   ],
   "id": "1683fbd269b333bb"
  },
  {
   "metadata": {
    "ExecuteTime": {
     "end_time": "2025-10-05T07:39:08.331032Z",
     "start_time": "2025-10-05T07:39:05.278753Z"
    }
   },
   "cell_type": "code",
   "source": [
    "from pydantic_evals.evaluators import Evaluator, EvaluatorContext\n",
    "\n",
    "dataset = Dataset(cases=[case1])\n",
    "#We start by just evaluating the return type.\n",
    "dataset.add_evaluator(IsInstance(type_name='TouristicRecommendation'))\n",
    "\n",
    "\n",
    "class DescriptionLengthEvaluator(Evaluator[str, TouristicRecommendation]):\n",
    "    def evaluate(self, ctx: EvaluatorContext[str, TouristicRecommendation]) -> float:\n",
    "        desc_len = len(ctx.output.description)\n",
    "        if desc_len <= 150:\n",
    "            return 0.0\n",
    "        if 150 < desc_len < 250:\n",
    "            return 1\n",
    "        if 250 < desc_len < 350:\n",
    "            return 0.5\n",
    "        else:\n",
    "            return 0\n",
    "\n",
    "\n",
    "dataset.add_evaluator(DescriptionLengthEvaluator())\n",
    "\n",
    "\n",
    "class NumberRecommendationsEvaluator(Evaluator[list[str], TouristicRecommendation]):\n",
    "    def evaluate(self, ctx: EvaluatorContext[list[str], TouristicRecommendation]) -> float:\n",
    "        num_recommendations = len(ctx.output.recommendations)\n",
    "        if num_recommendations <= 2:\n",
    "            return 0.0\n",
    "        if num_recommendations == 3:\n",
    "            return 1\n",
    "        if 3 < num_recommendations < 10:\n",
    "            return 0.5\n",
    "        else:\n",
    "            return 0\n",
    "\n",
    "\n",
    "dataset.add_evaluator(NumberRecommendationsEvaluator())\n",
    "\n",
    "report = await dataset.evaluate(call_agent)\n",
    "report.print(include_input=True, include_output=True, include_durations=False)\n"
   ],
   "id": "4baf23d4b91dbdfc",
   "outputs": [
    {
     "data": {
      "text/plain": [
       "Output()"
      ],
      "application/vnd.jupyter.widget-view+json": {
       "version_major": 2,
       "version_minor": 0,
       "model_id": "0c6eae8eb02e40aa8b65268335d19cfc"
      }
     },
     "metadata": {},
     "output_type": "display_data"
    },
    {
     "name": "stdout",
     "output_type": "stream",
     "text": [
      "09:39:05.306 evaluate call_agent\n",
      "09:39:05.334   case: Berlin Test Case\n",
      "09:39:05.335     execute call_agent\n",
      "09:39:05.338       agent run\n",
      "09:39:05.354         chat openai/gpt-oss-20b\n",
      "09:39:08.317     evaluator: IsInstance\n",
      "09:39:08.319     evaluator: DescriptionLengthEvaluator\n",
      "09:39:08.320     evaluator: NumberRecommendationsEvaluator\n"
     ]
    },
    {
     "data": {
      "text/plain": [],
      "text/html": [
       "<pre style=\"white-space:pre;overflow-x:auto;line-height:normal;font-family:Menlo,'DejaVu Sans Mono',consolas,'Courier New',monospace\"></pre>\n"
      ]
     },
     "metadata": {},
     "output_type": "display_data"
    },
    {
     "data": {
      "text/plain": [
       "\u001B[3m                                          Evaluation Summary: call_agent                                           \u001B[0m\n",
       "┏━━━━━━━━━━━━━━━━━━┳━━━━━━━━━━━━━━━━━━━━┳━━━━━━━━━━━━━━━━━━━┳━━━━━━━━━━━━━━━━━━━━┳━━━━━━━━━━━━━━━━━━━┳━━━━━━━━━━━━┓\n",
       "┃\u001B[1m \u001B[0m\u001B[1mCase ID         \u001B[0m\u001B[1m \u001B[0m┃\u001B[1m \u001B[0m\u001B[1mInputs            \u001B[0m\u001B[1m \u001B[0m┃\u001B[1m \u001B[0m\u001B[1mOutputs          \u001B[0m\u001B[1m \u001B[0m┃\u001B[1m \u001B[0m\u001B[1mScores            \u001B[0m\u001B[1m \u001B[0m┃\u001B[1m \u001B[0m\u001B[1mMetrics          \u001B[0m\u001B[1m \u001B[0m┃\u001B[1m \u001B[0m\u001B[1mAssertions\u001B[0m\u001B[1m \u001B[0m┃\n",
       "┡━━━━━━━━━━━━━━━━━━╇━━━━━━━━━━━━━━━━━━━━╇━━━━━━━━━━━━━━━━━━━╇━━━━━━━━━━━━━━━━━━━━╇━━━━━━━━━━━━━━━━━━━╇━━━━━━━━━━━━┩\n",
       "│\u001B[1m \u001B[0m\u001B[1mBerlin Test Case\u001B[0m\u001B[1m \u001B[0m│ What do you        │ city='Berlin'     │ DescriptionLengthE │ input_tokens: 452 │ \u001B[32m✔\u001B[0m          │\n",
       "│\u001B[1m                  \u001B[0m│ recommend for the  │ country='Germany' │ valuator: 1        │ output_tokens:    │            │\n",
       "│\u001B[1m                  \u001B[0m│ city of Berlin?    │ description='Berl │ NumberRecommendati │ 300               │            │\n",
       "│\u001B[1m                  \u001B[0m│                    │ in, the capital   │ onsEvaluator: 1    │ requests: 1       │            │\n",
       "│\u001B[1m                  \u001B[0m│                    │ of Germany,       │                    │                   │            │\n",
       "│\u001B[1m                  \u001B[0m│                    │ blends historic   │                    │                   │            │\n",
       "│\u001B[1m                  \u001B[0m│                    │ grandeur with     │                    │                   │            │\n",
       "│\u001B[1m                  \u001B[0m│                    │ avant-garde       │                    │                   │            │\n",
       "│\u001B[1m                  \u001B[0m│                    │ culture. From its │                    │                   │            │\n",
       "│\u001B[1m                  \u001B[0m│                    │ iconic            │                    │                   │            │\n",
       "│\u001B[1m                  \u001B[0m│                    │ Brandenburg Gate  │                    │                   │            │\n",
       "│\u001B[1m                  \u001B[0m│                    │ to cutting‑edge   │                    │                   │            │\n",
       "│\u001B[1m                  \u001B[0m│                    │ street art, the   │                    │                   │            │\n",
       "│\u001B[1m                  \u001B[0m│                    │ city captivates   │                    │                   │            │\n",
       "│\u001B[1m                  \u001B[0m│                    │ visitors with a   │                    │                   │            │\n",
       "│\u001B[1m                  \u001B[0m│                    │ vibrant mix of    │                    │                   │            │\n",
       "│\u001B[1m                  \u001B[0m│                    │ history,          │                    │                   │            │\n",
       "│\u001B[1m                  \u001B[0m│                    │ creativity and    │                    │                   │            │\n",
       "│\u001B[1m                  \u001B[0m│                    │ diverse cuisine.' │                    │                   │            │\n",
       "│\u001B[1m                  \u001B[0m│                    │ recommendations=[ │                    │                   │            │\n",
       "│\u001B[1m                  \u001B[0m│                    │ 'Brandenburg Gate │                    │                   │            │\n",
       "│\u001B[1m                  \u001B[0m│                    │ – the emblematic  │                    │                   │            │\n",
       "│\u001B[1m                  \u001B[0m│                    │ symbol of         │                    │                   │            │\n",
       "│\u001B[1m                  \u001B[0m│                    │ reunification and │                    │                   │            │\n",
       "│\u001B[1m                  \u001B[0m│                    │ a gateway to      │                    │                   │            │\n",
       "│\u001B[1m                  \u001B[0m│                    │ Berlin’s rich     │                    │                   │            │\n",
       "│\u001B[1m                  \u001B[0m│                    │ past.', 'Museum   │                    │                   │            │\n",
       "│\u001B[1m                  \u001B[0m│                    │ Island – a UNESCO │                    │                   │            │\n",
       "│\u001B[1m                  \u001B[0m│                    │ World Heritage    │                    │                   │            │\n",
       "│\u001B[1m                  \u001B[0m│                    │ site housing      │                    │                   │            │\n",
       "│\u001B[1m                  \u001B[0m│                    │ world‑class       │                    │                   │            │\n",
       "│\u001B[1m                  \u001B[0m│                    │ museums like      │                    │                   │            │\n",
       "│\u001B[1m                  \u001B[0m│                    │ Pergamon and      │                    │                   │            │\n",
       "│\u001B[1m                  \u001B[0m│                    │ Neues.', 'Berlin  │                    │                   │            │\n",
       "│\u001B[1m                  \u001B[0m│                    │ Wall Memorial –   │                    │                   │            │\n",
       "│\u001B[1m                  \u001B[0m│                    │ an evocative      │                    │                   │            │\n",
       "│\u001B[1m                  \u001B[0m│                    │ reminder of the   │                    │                   │            │\n",
       "│\u001B[1m                  \u001B[0m│                    │ city’s divided    │                    │                   │            │\n",
       "│\u001B[1m                  \u001B[0m│                    │ history, complete │                    │                   │            │\n",
       "│\u001B[1m                  \u001B[0m│                    │ with preserved    │                    │                   │            │\n",
       "│\u001B[1m                  \u001B[0m│                    │ wall sections and │                    │                   │            │\n",
       "│\u001B[1m                  \u001B[0m│                    │ informative       │                    │                   │            │\n",
       "│\u001B[1m                  \u001B[0m│                    │ exhibits.']       │                    │                   │            │\n",
       "├──────────────────┼────────────────────┼───────────────────┼────────────────────┼───────────────────┼────────────┤\n",
       "│\u001B[1m \u001B[0m\u001B[1;3mAverages\u001B[0m\u001B[1m        \u001B[0m\u001B[1m \u001B[0m│                    │                   │ DescriptionLengthE │ input_tokens:     │ 100.0% \u001B[32m✔\u001B[0m   │\n",
       "│\u001B[1m                  \u001B[0m│                    │                   │ valuator: 1.00     │ 452.0             │            │\n",
       "│\u001B[1m                  \u001B[0m│                    │                   │ NumberRecommendati │ output_tokens:    │            │\n",
       "│\u001B[1m                  \u001B[0m│                    │                   │ onsEvaluator: 1.00 │ 300.0             │            │\n",
       "│\u001B[1m                  \u001B[0m│                    │                   │                    │ requests: 1.00    │            │\n",
       "└──────────────────┴────────────────────┴───────────────────┴────────────────────┴───────────────────┴────────────┘\n"
      ],
      "text/html": [
       "<pre style=\"white-space:pre;overflow-x:auto;line-height:normal;font-family:Menlo,'DejaVu Sans Mono',consolas,'Courier New',monospace\"><span style=\"font-style: italic\">                                          Evaluation Summary: call_agent                                           </span>\n",
       "┏━━━━━━━━━━━━━━━━━━┳━━━━━━━━━━━━━━━━━━━━┳━━━━━━━━━━━━━━━━━━━┳━━━━━━━━━━━━━━━━━━━━┳━━━━━━━━━━━━━━━━━━━┳━━━━━━━━━━━━┓\n",
       "┃<span style=\"font-weight: bold\"> Case ID          </span>┃<span style=\"font-weight: bold\"> Inputs             </span>┃<span style=\"font-weight: bold\"> Outputs           </span>┃<span style=\"font-weight: bold\"> Scores             </span>┃<span style=\"font-weight: bold\"> Metrics           </span>┃<span style=\"font-weight: bold\"> Assertions </span>┃\n",
       "┡━━━━━━━━━━━━━━━━━━╇━━━━━━━━━━━━━━━━━━━━╇━━━━━━━━━━━━━━━━━━━╇━━━━━━━━━━━━━━━━━━━━╇━━━━━━━━━━━━━━━━━━━╇━━━━━━━━━━━━┩\n",
       "│<span style=\"font-weight: bold\"> Berlin Test Case </span>│ What do you        │ city='Berlin'     │ DescriptionLengthE │ input_tokens: 452 │ <span style=\"color: #008000; text-decoration-color: #008000\">✔</span>          │\n",
       "│<span style=\"font-weight: bold\">                  </span>│ recommend for the  │ country='Germany' │ valuator: 1        │ output_tokens:    │            │\n",
       "│<span style=\"font-weight: bold\">                  </span>│ city of Berlin?    │ description='Berl │ NumberRecommendati │ 300               │            │\n",
       "│<span style=\"font-weight: bold\">                  </span>│                    │ in, the capital   │ onsEvaluator: 1    │ requests: 1       │            │\n",
       "│<span style=\"font-weight: bold\">                  </span>│                    │ of Germany,       │                    │                   │            │\n",
       "│<span style=\"font-weight: bold\">                  </span>│                    │ blends historic   │                    │                   │            │\n",
       "│<span style=\"font-weight: bold\">                  </span>│                    │ grandeur with     │                    │                   │            │\n",
       "│<span style=\"font-weight: bold\">                  </span>│                    │ avant-garde       │                    │                   │            │\n",
       "│<span style=\"font-weight: bold\">                  </span>│                    │ culture. From its │                    │                   │            │\n",
       "│<span style=\"font-weight: bold\">                  </span>│                    │ iconic            │                    │                   │            │\n",
       "│<span style=\"font-weight: bold\">                  </span>│                    │ Brandenburg Gate  │                    │                   │            │\n",
       "│<span style=\"font-weight: bold\">                  </span>│                    │ to cutting‑edge   │                    │                   │            │\n",
       "│<span style=\"font-weight: bold\">                  </span>│                    │ street art, the   │                    │                   │            │\n",
       "│<span style=\"font-weight: bold\">                  </span>│                    │ city captivates   │                    │                   │            │\n",
       "│<span style=\"font-weight: bold\">                  </span>│                    │ visitors with a   │                    │                   │            │\n",
       "│<span style=\"font-weight: bold\">                  </span>│                    │ vibrant mix of    │                    │                   │            │\n",
       "│<span style=\"font-weight: bold\">                  </span>│                    │ history,          │                    │                   │            │\n",
       "│<span style=\"font-weight: bold\">                  </span>│                    │ creativity and    │                    │                   │            │\n",
       "│<span style=\"font-weight: bold\">                  </span>│                    │ diverse cuisine.' │                    │                   │            │\n",
       "│<span style=\"font-weight: bold\">                  </span>│                    │ recommendations=[ │                    │                   │            │\n",
       "│<span style=\"font-weight: bold\">                  </span>│                    │ 'Brandenburg Gate │                    │                   │            │\n",
       "│<span style=\"font-weight: bold\">                  </span>│                    │ – the emblematic  │                    │                   │            │\n",
       "│<span style=\"font-weight: bold\">                  </span>│                    │ symbol of         │                    │                   │            │\n",
       "│<span style=\"font-weight: bold\">                  </span>│                    │ reunification and │                    │                   │            │\n",
       "│<span style=\"font-weight: bold\">                  </span>│                    │ a gateway to      │                    │                   │            │\n",
       "│<span style=\"font-weight: bold\">                  </span>│                    │ Berlin’s rich     │                    │                   │            │\n",
       "│<span style=\"font-weight: bold\">                  </span>│                    │ past.', 'Museum   │                    │                   │            │\n",
       "│<span style=\"font-weight: bold\">                  </span>│                    │ Island – a UNESCO │                    │                   │            │\n",
       "│<span style=\"font-weight: bold\">                  </span>│                    │ World Heritage    │                    │                   │            │\n",
       "│<span style=\"font-weight: bold\">                  </span>│                    │ site housing      │                    │                   │            │\n",
       "│<span style=\"font-weight: bold\">                  </span>│                    │ world‑class       │                    │                   │            │\n",
       "│<span style=\"font-weight: bold\">                  </span>│                    │ museums like      │                    │                   │            │\n",
       "│<span style=\"font-weight: bold\">                  </span>│                    │ Pergamon and      │                    │                   │            │\n",
       "│<span style=\"font-weight: bold\">                  </span>│                    │ Neues.', 'Berlin  │                    │                   │            │\n",
       "│<span style=\"font-weight: bold\">                  </span>│                    │ Wall Memorial –   │                    │                   │            │\n",
       "│<span style=\"font-weight: bold\">                  </span>│                    │ an evocative      │                    │                   │            │\n",
       "│<span style=\"font-weight: bold\">                  </span>│                    │ reminder of the   │                    │                   │            │\n",
       "│<span style=\"font-weight: bold\">                  </span>│                    │ city’s divided    │                    │                   │            │\n",
       "│<span style=\"font-weight: bold\">                  </span>│                    │ history, complete │                    │                   │            │\n",
       "│<span style=\"font-weight: bold\">                  </span>│                    │ with preserved    │                    │                   │            │\n",
       "│<span style=\"font-weight: bold\">                  </span>│                    │ wall sections and │                    │                   │            │\n",
       "│<span style=\"font-weight: bold\">                  </span>│                    │ informative       │                    │                   │            │\n",
       "│<span style=\"font-weight: bold\">                  </span>│                    │ exhibits.']       │                    │                   │            │\n",
       "├──────────────────┼────────────────────┼───────────────────┼────────────────────┼───────────────────┼────────────┤\n",
       "│<span style=\"font-weight: bold\"> </span><span style=\"font-weight: bold; font-style: italic\">Averages</span><span style=\"font-weight: bold\">         </span>│                    │                   │ DescriptionLengthE │ input_tokens:     │ 100.0% <span style=\"color: #008000; text-decoration-color: #008000\">✔</span>   │\n",
       "│<span style=\"font-weight: bold\">                  </span>│                    │                   │ valuator: 1.00     │ 452.0             │            │\n",
       "│<span style=\"font-weight: bold\">                  </span>│                    │                   │ NumberRecommendati │ output_tokens:    │            │\n",
       "│<span style=\"font-weight: bold\">                  </span>│                    │                   │ onsEvaluator: 1.00 │ 300.0             │            │\n",
       "│<span style=\"font-weight: bold\">                  </span>│                    │                   │                    │ requests: 1.00    │            │\n",
       "└──────────────────┴────────────────────┴───────────────────┴────────────────────┴───────────────────┴────────────┘\n",
       "</pre>\n"
      ]
     },
     "metadata": {},
     "output_type": "display_data"
    }
   ],
   "execution_count": 19
  },
  {
   "metadata": {},
   "cell_type": "markdown",
   "source": [
    "## Run with a different Model\n",
    "\n",
    "Now lets see how a very simple model will handle this.\n",
    "\n"
   ],
   "id": "aff01573f1c2598e"
  },
  {
   "metadata": {},
   "cell_type": "code",
   "source": [
    "small_model = OpenAIChatModel(\"qwen/qwen3-4b-2507\", provider=OpenAIProvider(BASE_URL))\n",
    "\n",
    "#setting up a small agent and we have to shorten the prompt a bit to get bad results\n",
    "small_agent = Agent(small_model, output_type=TouristicRecommendation, system_prompt=\"\"\"\n",
    "You are a touristic recommendation agent.\n",
    "You are given a city name and you have to provide a touristic recommendation for this city.\n",
    "Give a short description.\n",
    "\"\"\")\n",
    "\n",
    "\n",
    "# result = await small_agent.run(\"What do you recommend for the city of Berlin?\")\n",
    "# result.output\n",
    "\n",
    "#The call to the agent is wrapped in a function\n",
    "def call_small_agent(input: str) -> TouristicRecommendation:\n",
    "    return small_agent.run_sync(input).output\n",
    "\n",
    "\n",
    "report = await dataset.evaluate(call_small_agent)\n",
    "report.print(include_input=True, include_output=True, include_durations=False)"
   ],
   "id": "ba5e80920da5d111",
   "outputs": [],
   "execution_count": null
  },
  {
   "metadata": {},
   "cell_type": "markdown",
   "source": [
    "## LLM as a Judge\n",
    "\n",
    "Now we let an LLM judge the output of our agent and let it give some"
   ],
   "id": "797cdf853ed2bbcd"
  },
  {
   "metadata": {},
   "cell_type": "code",
   "source": [
    "import os\n",
    "\n",
    "#We load a longer dataset\n",
    "loaded_dataset = Dataset.from_file(os.path.join(os.getcwd(), 'data', 'capitals_dataset.yaml'))\n",
    "\n",
    "#now add an LLMJudge\n",
    "from pydantic_evals.evaluators import LLMJudge\n",
    "\n",
    "llm_evaluator = LLMJudge(rubric=\"\"\"Does the output match the expected output?\n",
    "Validate the expected description and recommendations.\n",
    "There should be at least 2 of the expected recommendations in the output.\"\"\",\n",
    "                         include_expected_output=True)\n",
    "loaded_dataset.add_evaluator(llm_evaluator)\n",
    "\n",
    "report = await loaded_dataset.evaluate(call_small_agent)\n",
    "report.print(include_input=True, include_output=True, include_durations=False, include_reasons=True)"
   ],
   "id": "a1d94c039c572582",
   "outputs": [],
   "execution_count": null
  },
  {
   "metadata": {},
   "cell_type": "code",
   "source": [
    "#Lets try it with the big model again\n",
    "\n",
    "report = await loaded_dataset.evaluate(call_agent)\n",
    "report.print(include_input=True, include_output=True, include_durations=False, include_reasons=True)"
   ],
   "id": "c43e496ec60c6e67",
   "outputs": [],
   "execution_count": null
  }
 ],
 "metadata": {
  "kernelspec": {
   "display_name": "Python 3",
   "language": "python",
   "name": "python3"
  },
  "language_info": {
   "codemirror_mode": {
    "name": "ipython",
    "version": 2
   },
   "file_extension": ".py",
   "mimetype": "text/x-python",
   "name": "python",
   "nbconvert_exporter": "python",
   "pygments_lexer": "ipython2",
   "version": "2.7.6"
  }
 },
 "nbformat": 4,
 "nbformat_minor": 5
}
