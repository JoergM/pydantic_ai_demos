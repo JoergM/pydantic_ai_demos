{
 "cells": [
  {
   "metadata": {},
   "cell_type": "markdown",
   "source": [
    "# Pydantic AI Demos - Part 1 (Structure)\n",
    "\n",
    "This notebook demonstrates how pydantic AI supports returning results in a structured form. It starts with the basics\n",
    "and then goes on with more complicated examples.\n",
    "\n",
    "## Basic LLM Call\n",
    "\n",
    "In this example we will just call an LLM and wait for an answer. We use the well known example of asking for the capital of a country.\n",
    "This just returns a string.\n"
   ],
   "id": "f773f7315c5ec4fd"
  },
  {
   "metadata": {
    "ExecuteTime": {
     "end_time": "2025-10-01T05:27:39.025346Z",
     "start_time": "2025-10-01T05:27:37.276825Z"
    }
   },
   "cell_type": "code",
   "source": [
    "from pydantic_ai.models.anthropic import AnthropicModel\n",
    "from pydantic_ai import Agent\n",
    "from pydantic_ai.models.openai import OpenAIChatModel\n",
    "from pydantic_ai.providers.openai import OpenAIProvider\n",
    "\n",
    "BASE_URL=\"http://127.0.0.1:1234/v1\"\n",
    "LM_STUDIO_MODEL=\"openai/gpt-oss-20b\"\n",
    "\n",
    "model = OpenAIChatModel(LM_STUDIO_MODEL, provider=OpenAIProvider(BASE_URL))\n",
    "\n",
    "agent = Agent(model, output_type=str)\n",
    "\n",
    "result = await agent.run(\"What is the capital of Germany?\")\n",
    "result.output\n"
   ],
   "id": "9f5367d2a0cded3c",
   "outputs": [
    {
     "data": {
      "text/plain": [
       "'The capital of Germany is **Berlin**.'"
      ]
     },
     "execution_count": 2,
     "metadata": {},
     "output_type": "execute_result"
    }
   ],
   "execution_count": 2
  },
  {
   "metadata": {},
   "cell_type": "markdown",
   "source": [
    "\n",
    "\n",
    "## Some structure to the result\n",
    "\n",
    "We would like some more information and we also would like it in another form than as string.\n",
    "\n",
    "So lets create a target object and use this.\n"
   ],
   "id": "bb6cf1bdc99a5241"
  },
  {
   "metadata": {
    "ExecuteTime": {
     "end_time": "2025-10-01T05:37:45.784460Z",
     "start_time": "2025-10-01T05:37:44.461086Z"
    }
   },
   "cell_type": "code",
   "source": [
    "from pydantic import BaseModel, Field\n",
    "\n",
    "class Capital(BaseModel):\n",
    "    name: str = Field(..., description=\"The name of the capital\")\n",
    "    country: str = Field(..., description=\"The country of the capital, as it was asked by the user.\")\n",
    "    num_inhabitants: int = Field(..., description=\"The number of inhabitants of the capital\")\n",
    "\n",
    "agent = Agent(model, output_type=Capital)\n",
    "\n",
    "result = await agent.run(\"What is the capital of Germany?\")\n",
    "hauptstadt = result.output\n",
    "print(f\"name: {hauptstadt.name}, country: {hauptstadt.country}, num_inhabitants: {hauptstadt.num_inhabitants}\")"
   ],
   "id": "5e5e3a3ade12a868",
   "outputs": [
    {
     "name": "stdout",
     "output_type": "stream",
     "text": [
      "name: New Delhi, country: India, num_inhabitants: 21000000\n"
     ]
    }
   ],
   "execution_count": 8
  },
  {
   "metadata": {},
   "cell_type": "markdown",
   "source": [
    "\n",
    "## Lets add some logging\n",
    "\n",
    "We are using logfire. A product of pydantic to see what happens during the call.\n",
    "\n",
    "You would need to setup an account to get the token. There is a free account with a rather large limit."
   ],
   "id": "fc598aa90ddb586f"
  },
  {
   "metadata": {
    "ExecuteTime": {
     "end_time": "2025-10-01T05:42:05.256729Z",
     "start_time": "2025-10-01T05:42:05.201178Z"
    }
   },
   "cell_type": "code",
   "source": [
    "from dotenv import load_dotenv\n",
    "import logfire\n",
    "import os\n",
    "\n",
    "load_dotenv()\n",
    "logfire.configure(token=os.getenv(\"LOGFIRE_TOKEN\"))\n",
    "logfire.info('I am configured!')\n",
    "logfire.instrument_pydantic_ai()"
   ],
   "id": "e6745383dce3f4d2",
   "outputs": [
    {
     "name": "stdout",
     "output_type": "stream",
     "text": [
      "07:42:05.252 I am configured!\n"
     ]
    },
    {
     "name": "stderr",
     "output_type": "stream",
     "text": [
      "\u001B[1mLogfire\u001B[0m project URL: \n",
      "\u001B]8;id=4223;https://logfire-eu.pydantic.dev/joerg-mueller/pydantic-demos\u001B\\\u001B[4;36mhttps://logfire-eu.pydantic.dev/joerg-mueller/pydantic-demos\u001B[0m\u001B]8;;\u001B\\\n"
     ]
    }
   ],
   "execution_count": 9
  },
  {
   "metadata": {
    "ExecuteTime": {
     "end_time": "2025-10-01T05:43:01.789140Z",
     "start_time": "2025-10-01T05:43:00.165949Z"
    }
   },
   "cell_type": "code",
   "source": [
    "# Run the agent again.\n",
    "result = await agent.run(\"What is the capital of Japan?\")\n",
    "result.output\n"
   ],
   "id": "d02a179e2157e1f5",
   "outputs": [
    {
     "name": "stdout",
     "output_type": "stream",
     "text": [
      "07:43:00.186 agent run\n",
      "07:43:00.198   chat openai/gpt-oss-20b\n"
     ]
    },
    {
     "data": {
      "text/plain": [
       "Capital(name='Tokyo', country='Japan', num_inhabitants=13929286)"
      ]
     },
     "execution_count": 10,
     "metadata": {},
     "output_type": "execute_result"
    }
   ],
   "execution_count": 10
  },
  {
   "metadata": {},
   "cell_type": "markdown",
   "source": [
    "\n",
    "## Add a validator\n",
    "\n",
    "We not only want the result to be structured but also validate, that certain elements have a specific form.\n",
    "Pydantic AI will do the validation for us and ask the LLM for correction if the result is wrong.\n"
   ],
   "id": "fb5cc7804ed139c3"
  },
  {
   "cell_type": "code",
   "execution_count": null,
   "id": "initial_id",
   "metadata": {
    "collapsed": true
   },
   "outputs": [],
   "source": [
    ""
   ]
  }
 ],
 "metadata": {
  "kernelspec": {
   "display_name": "Python 3",
   "language": "python",
   "name": "python3"
  },
  "language_info": {
   "codemirror_mode": {
    "name": "ipython",
    "version": 2
   },
   "file_extension": ".py",
   "mimetype": "text/x-python",
   "name": "python",
   "nbconvert_exporter": "python",
   "pygments_lexer": "ipython2",
   "version": "2.7.6"
  }
 },
 "nbformat": 4,
 "nbformat_minor": 5
}
