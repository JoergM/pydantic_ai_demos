{
 "cells": [
  {
   "metadata": {},
   "cell_type": "markdown",
   "source": [
    "# Pydantic AI Demos - Part 1 (Structure)\n",
    "\n",
    "This notebook demonstrates how pydantic AI supports returning results in a structured form. It starts with the basics\n",
    "and then goes on with more complicated examples.\n",
    "\n",
    "## Basic LLM Call\n",
    "\n",
    "In this example we will just call an LLM and wait for an answer. We use the well known example of asking for the capital of a country.\n",
    "This just returns a string.\n"
   ],
   "id": "f773f7315c5ec4fd"
  },
  {
   "metadata": {
    "ExecuteTime": {
     "end_time": "2025-09-30T05:11:29.192105Z",
     "start_time": "2025-09-30T05:11:28.510073Z"
    }
   },
   "cell_type": "code",
   "source": [
    "from pydantic_ai.models.anthropic import AnthropicModel\n",
    "from pydantic_ai import Agent\n",
    "from pydantic_ai.models.openai import OpenAIChatModel\n",
    "from pydantic_ai.providers.openai import OpenAIProvider\n",
    "\n",
    "BASE_URL=\"http://127.0.0.1:1234/v1\"\n",
    "LM_STUDIO_MODEL=\"openai/gpt-oss-20b\"\n",
    "\n",
    "model = OpenAIChatModel(LM_STUDIO_MODEL, provider=OpenAIProvider(BASE_URL))\n",
    "\n",
    "agent = Agent(model, output_type=str)\n",
    "\n",
    "result = await agent.run(\"What is the capital of Germany?\")\n",
    "result.output\n"
   ],
   "id": "9f5367d2a0cded3c",
   "outputs": [
    {
     "data": {
      "text/plain": [
       "'The capital of Germany is **Berlin**.'"
      ]
     },
     "execution_count": 11,
     "metadata": {},
     "output_type": "execute_result"
    }
   ],
   "execution_count": 11
  },
  {
   "metadata": {},
   "cell_type": "markdown",
   "source": [
    "\n",
    "\n",
    "## Some structure to the result\n",
    "\n",
    "We would like some more information and we also would like it in another form than as string.\n",
    "\n",
    "## Lets add some logging\n",
    "\n",
    "We are using logfire. A product of pydantic to see what happens during the call.\n",
    "\n",
    "## Add a validator\n",
    "\n",
    "We not only want the result to be structured but also validate, that certain elements have a specific form.\n",
    "Pydantic AI will do the validation for us and ask the LLM for correction if the result is wrong.\n"
   ],
   "id": "fb5cc7804ed139c3"
  },
  {
   "cell_type": "code",
   "execution_count": null,
   "id": "initial_id",
   "metadata": {
    "collapsed": true
   },
   "outputs": [],
   "source": [
    ""
   ]
  }
 ],
 "metadata": {
  "kernelspec": {
   "display_name": "Python 3",
   "language": "python",
   "name": "python3"
  },
  "language_info": {
   "codemirror_mode": {
    "name": "ipython",
    "version": 2
   },
   "file_extension": ".py",
   "mimetype": "text/x-python",
   "name": "python",
   "nbconvert_exporter": "python",
   "pygments_lexer": "ipython2",
   "version": "2.7.6"
  }
 },
 "nbformat": 4,
 "nbformat_minor": 5
}
